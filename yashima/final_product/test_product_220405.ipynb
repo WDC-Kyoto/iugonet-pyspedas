{
 "cells": [
  {
   "cell_type": "code",
   "execution_count": 87,
   "metadata": {},
   "outputs": [],
   "source": [
    "%run ./iug_load_gmag_wdc.py"
   ]
  },
  {
   "cell_type": "code",
   "execution_count": 85,
   "metadata": {},
   "outputs": [
    {
     "ename": "KeyError",
     "evalue": "'local_data_dir_sym'",
     "output_type": "error",
     "traceback": [
      "\u001b[1;31m---------------------------------------------------------------------------\u001b[0m",
      "\u001b[1;31mKeyError\u001b[0m                                  Traceback (most recent call last)",
      "\u001b[1;32m<ipython-input-85-9f87731a313f>\u001b[0m in \u001b[0;36m<module>\u001b[1;34m\u001b[0m\n\u001b[1;32m----> 1\u001b[1;33m \u001b[0miug_load_gmag_wdc\u001b[0m\u001b[1;33m(\u001b[0m\u001b[0msite\u001b[0m\u001b[1;33m=\u001b[0m\u001b[1;34m\"asy\"\u001b[0m\u001b[1;33m,\u001b[0m\u001b[0mlevel\u001b[0m\u001b[1;33m=\u001b[0m\u001b[1;34m\"provisonal\"\u001b[0m\u001b[1;33m)\u001b[0m\u001b[1;33m\u001b[0m\u001b[1;33m\u001b[0m\u001b[0m\n\u001b[0m",
      "\u001b[1;32m~\\Documents\\SPEL\\Imajo_RA_jupyternotebook\\product\\final_product\\iug_load_gmag_wdc.py\u001b[0m in \u001b[0;36miug_load_gmag_wdc\u001b[1;34m(trange, level, site, res)\u001b[0m\n\u001b[0;32m     11\u001b[0m     \u001b[1;32mif\u001b[0m\u001b[1;33m(\u001b[0m\u001b[1;34m\"asy\"\u001b[0m \u001b[1;32min\u001b[0m \u001b[0msite2\u001b[0m\u001b[1;33m)\u001b[0m\u001b[1;33m:\u001b[0m\u001b[1;33m\u001b[0m\u001b[1;33m\u001b[0m\u001b[0m\n\u001b[0;32m     12\u001b[0m         \u001b[1;32mfrom\u001b[0m \u001b[0mwdc\u001b[0m \u001b[1;32mimport\u001b[0m \u001b[0masy\u001b[0m\u001b[1;33m\u001b[0m\u001b[1;33m\u001b[0m\u001b[0m\n\u001b[1;32m---> 13\u001b[1;33m         \u001b[0masy\u001b[0m\u001b[1;33m.\u001b[0m\u001b[0masy\u001b[0m\u001b[1;33m(\u001b[0m\u001b[0mtrange\u001b[0m\u001b[1;33m=\u001b[0m\u001b[0mtrange\u001b[0m\u001b[1;33m)\u001b[0m\u001b[1;33m\u001b[0m\u001b[1;33m\u001b[0m\u001b[0m\n\u001b[0m\u001b[0;32m     14\u001b[0m     \u001b[1;32mif\u001b[0m\u001b[1;33m(\u001b[0m\u001b[1;34m\"sym\"\u001b[0m \u001b[1;32min\u001b[0m \u001b[0msite2\u001b[0m\u001b[1;33m)\u001b[0m\u001b[1;33m:\u001b[0m\u001b[1;33m\u001b[0m\u001b[1;33m\u001b[0m\u001b[0m\n\u001b[0;32m     15\u001b[0m         \u001b[1;32mfrom\u001b[0m \u001b[0mwdc\u001b[0m \u001b[1;32mimport\u001b[0m \u001b[0msym\u001b[0m\u001b[1;33m\u001b[0m\u001b[1;33m\u001b[0m\u001b[0m\n",
      "\u001b[1;32m~\\Documents\\SPEL\\Imajo_RA_jupyternotebook\\product\\final_product\\wdc\\asy.py\u001b[0m in \u001b[0;36masy\u001b[1;34m(trange)\u001b[0m\n\u001b[0;32m      5\u001b[0m \u001b[1;33m\u001b[0m\u001b[0m\n\u001b[0;32m      6\u001b[0m \u001b[1;32mdef\u001b[0m \u001b[0masy\u001b[0m\u001b[1;33m(\u001b[0m\u001b[0mtrange\u001b[0m\u001b[1;33m=\u001b[0m\u001b[1;33m[\u001b[0m\u001b[1;34m'2011-1-1'\u001b[0m\u001b[1;33m,\u001b[0m \u001b[1;34m'2011-2-1'\u001b[0m\u001b[1;33m]\u001b[0m\u001b[1;33m)\u001b[0m\u001b[1;33m:\u001b[0m\u001b[1;33m\u001b[0m\u001b[1;33m\u001b[0m\u001b[0m\n\u001b[1;32m----> 7\u001b[1;33m     \u001b[1;32mreturn\u001b[0m \u001b[0mload_asy\u001b[0m\u001b[1;33m(\u001b[0m\u001b[0mtrange\u001b[0m\u001b[1;33m)\u001b[0m\u001b[1;33m\u001b[0m\u001b[1;33m\u001b[0m\u001b[0m\n\u001b[0m\u001b[0;32m      8\u001b[0m \u001b[1;33m\u001b[0m\u001b[0m\n\u001b[0;32m      9\u001b[0m \u001b[1;33m\u001b[0m\u001b[0m\n",
      "\u001b[1;32m~\\Documents\\SPEL\\Imajo_RA_jupyternotebook\\product\\final_product\\wdc\\load\\load_asy.py\u001b[0m in \u001b[0;36mload_asy\u001b[1;34m(trange)\u001b[0m\n\u001b[0;32m     16\u001b[0m \u001b[1;33m\u001b[0m\u001b[0m\n\u001b[0;32m     17\u001b[0m     \u001b[1;31m### read data\u001b[0m\u001b[1;33m\u001b[0m\u001b[1;33m\u001b[0m\u001b[1;33m\u001b[0m\u001b[0m\n\u001b[1;32m---> 18\u001b[1;33m     \u001b[0mlocal_files\u001b[0m \u001b[1;33m=\u001b[0m \u001b[0mdownload_asy\u001b[0m\u001b[1;33m(\u001b[0m\u001b[0mtrange\u001b[0m\u001b[1;33m)\u001b[0m\u001b[1;33m\u001b[0m\u001b[1;33m\u001b[0m\u001b[0m\n\u001b[0m\u001b[0;32m     19\u001b[0m     \u001b[1;31m#\u001b[0m\u001b[1;33m\u001b[0m\u001b[1;33m\u001b[0m\u001b[1;33m\u001b[0m\u001b[0m\n\u001b[0;32m     20\u001b[0m     \u001b[0mnames\u001b[0m    \u001b[1;33m=\u001b[0m \u001b[1;33m[\u001b[0m\u001b[1;34m'h1'\u001b[0m\u001b[1;33m,\u001b[0m \u001b[1;34m'h2'\u001b[0m\u001b[1;33m,\u001b[0m \u001b[1;34m'h3'\u001b[0m\u001b[1;33m,\u001b[0m \u001b[1;34m'h4'\u001b[0m\u001b[1;33m,\u001b[0m \u001b[1;34m'h5'\u001b[0m\u001b[1;33m,\u001b[0m \u001b[1;34m'h6'\u001b[0m\u001b[1;33m,\u001b[0m \u001b[1;34m'h7'\u001b[0m\u001b[1;33m,\u001b[0m \u001b[1;34m'h8'\u001b[0m\u001b[1;33m]\u001b[0m\u001b[1;33m\u001b[0m\u001b[1;33m\u001b[0m\u001b[0m\n",
      "\u001b[1;32m~\\Documents\\SPEL\\Imajo_RA_jupyternotebook\\product\\final_product\\wdc\\load\\download\\download_sym.py\u001b[0m in \u001b[0;36mdownload_asy\u001b[1;34m(trange)\u001b[0m\n\u001b[0;32m     45\u001b[0m \u001b[1;33m\u001b[0m\u001b[0m\n\u001b[0;32m     46\u001b[0m \u001b[1;32mdef\u001b[0m \u001b[0mdownload_asy\u001b[0m\u001b[1;33m(\u001b[0m\u001b[0mtrange\u001b[0m\u001b[1;33m)\u001b[0m\u001b[1;33m:\u001b[0m\u001b[1;33m\u001b[0m\u001b[1;33m\u001b[0m\u001b[0m\n\u001b[1;32m---> 47\u001b[1;33m     \u001b[1;32mreturn\u001b[0m \u001b[0mdownload_sym\u001b[0m\u001b[1;33m(\u001b[0m\u001b[0mtrange\u001b[0m\u001b[1;33m)\u001b[0m\u001b[1;33m\u001b[0m\u001b[1;33m\u001b[0m\u001b[0m\n\u001b[0m\u001b[0;32m     48\u001b[0m \u001b[1;33m\u001b[0m\u001b[0m\n\u001b[0;32m     49\u001b[0m \u001b[1;33m\u001b[0m\u001b[0m\n",
      "\u001b[1;32m~\\Documents\\SPEL\\Imajo_RA_jupyternotebook\\product\\final_product\\wdc\\load\\download\\download_sym.py\u001b[0m in \u001b[0;36mdownload_sym\u001b[1;34m(trange)\u001b[0m\n\u001b[0;32m     13\u001b[0m     \u001b[1;31m### local\u001b[0m\u001b[1;33m\u001b[0m\u001b[1;33m\u001b[0m\u001b[1;33m\u001b[0m\u001b[0m\n\u001b[0;32m     14\u001b[0m     \u001b[0msubdir\u001b[0m \u001b[1;33m=\u001b[0m \u001b[0mdailynames\u001b[0m\u001b[1;33m(\u001b[0m\u001b[0mtrange\u001b[0m\u001b[1;33m=\u001b[0m\u001b[0mtrange\u001b[0m\u001b[1;33m,\u001b[0m \u001b[0mfile_format\u001b[0m\u001b[1;33m=\u001b[0m\u001b[1;34m'%Y%m'\u001b[0m\u001b[1;33m)\u001b[0m\u001b[1;33m\u001b[0m\u001b[1;33m\u001b[0m\u001b[0m\n\u001b[1;32m---> 15\u001b[1;33m     local_path  = [ os.sep.join(CONFIG['local_data_dir_sym'], sd[0:4]]) for sd in subdir ]\n\u001b[0m\u001b[0;32m     16\u001b[0m \u001b[1;33m\u001b[0m\u001b[0m\n\u001b[0;32m     17\u001b[0m \u001b[1;33m\u001b[0m\u001b[0m\n",
      "\u001b[1;32m~\\Documents\\SPEL\\Imajo_RA_jupyternotebook\\product\\final_product\\wdc\\load\\download\\download_sym.py\u001b[0m in \u001b[0;36m<listcomp>\u001b[1;34m(.0)\u001b[0m\n\u001b[0;32m     13\u001b[0m     \u001b[1;31m### local\u001b[0m\u001b[1;33m\u001b[0m\u001b[1;33m\u001b[0m\u001b[1;33m\u001b[0m\u001b[0m\n\u001b[0;32m     14\u001b[0m     \u001b[0msubdir\u001b[0m \u001b[1;33m=\u001b[0m \u001b[0mdailynames\u001b[0m\u001b[1;33m(\u001b[0m\u001b[0mtrange\u001b[0m\u001b[1;33m=\u001b[0m\u001b[0mtrange\u001b[0m\u001b[1;33m,\u001b[0m \u001b[0mfile_format\u001b[0m\u001b[1;33m=\u001b[0m\u001b[1;34m'%Y%m'\u001b[0m\u001b[1;33m)\u001b[0m\u001b[1;33m\u001b[0m\u001b[1;33m\u001b[0m\u001b[0m\n\u001b[1;32m---> 15\u001b[1;33m     local_path  = [ os.sep.join(CONFIG['local_data_dir_sym'], sd[0:4]]) for sd in subdir ]\n\u001b[0m\u001b[0;32m     16\u001b[0m \u001b[1;33m\u001b[0m\u001b[0m\n\u001b[0;32m     17\u001b[0m \u001b[1;33m\u001b[0m\u001b[0m\n",
      "\u001b[1;31mKeyError\u001b[0m: 'local_data_dir_sym'"
     ]
    }
   ],
   "source": [
    "iug_load_gmag_wdc(site=\"\",level=\"provisonal\")"
   ]
  },
  {
   "cell_type": "code",
   "execution_count": 88,
   "metadata": {},
   "outputs": [
    {
     "ename": "ImportError",
     "evalue": "cannot import name 'gddays' from 'wdc' (unknown location)",
     "output_type": "error",
     "traceback": [
      "\u001b[1;31m---------------------------------------------------------------------------\u001b[0m",
      "\u001b[1;31mImportError\u001b[0m                               Traceback (most recent call last)",
      "\u001b[1;32m<ipython-input-88-51a1953cabf9>\u001b[0m in \u001b[0;36m<module>\u001b[1;34m\u001b[0m\n\u001b[1;32m----> 1\u001b[1;33m \u001b[0miug_load_gmag_wdc_qddays\u001b[0m\u001b[1;33m(\u001b[0m\u001b[1;33m)\u001b[0m\u001b[1;33m\u001b[0m\u001b[1;33m\u001b[0m\u001b[0m\n\u001b[0m",
      "\u001b[1;32m~\\Documents\\SPEL\\Imajo_RA_jupyternotebook\\product\\final_product\\iug_load_gmag_wdc.py\u001b[0m in \u001b[0;36miug_load_gmag_wdc_qddays\u001b[1;34m(trange)\u001b[0m\n\u001b[0;32m     21\u001b[0m \u001b[1;33m\u001b[0m\u001b[0m\n\u001b[0;32m     22\u001b[0m \u001b[1;32mdef\u001b[0m \u001b[0miug_load_gmag_wdc_qddays\u001b[0m\u001b[1;33m(\u001b[0m\u001b[0mtrange\u001b[0m\u001b[1;33m=\u001b[0m\u001b[1;33m[\u001b[0m\u001b[1;34m'2011-1-1'\u001b[0m\u001b[1;33m,\u001b[0m \u001b[1;34m'2011-1-2'\u001b[0m\u001b[1;33m]\u001b[0m\u001b[1;33m)\u001b[0m\u001b[1;33m:\u001b[0m\u001b[1;33m\u001b[0m\u001b[1;33m\u001b[0m\u001b[0m\n\u001b[1;32m---> 23\u001b[1;33m     \u001b[1;32mfrom\u001b[0m \u001b[0mwdc\u001b[0m \u001b[1;32mimport\u001b[0m \u001b[0mgddays\u001b[0m\u001b[1;33m\u001b[0m\u001b[1;33m\u001b[0m\u001b[0m\n\u001b[0m\u001b[0;32m     24\u001b[0m     \u001b[0mgddays\u001b[0m\u001b[1;33m.\u001b[0m\u001b[0mqddays\u001b[0m\u001b[1;33m(\u001b[0m\u001b[0mtrange\u001b[0m\u001b[1;33m=\u001b[0m\u001b[0mtrange\u001b[0m\u001b[1;33m)\u001b[0m\u001b[1;33m\u001b[0m\u001b[1;33m\u001b[0m\u001b[0m\n\u001b[0;32m     25\u001b[0m     \u001b[1;32mreturn\u001b[0m \u001b[1;36m0\u001b[0m\u001b[1;33m\u001b[0m\u001b[1;33m\u001b[0m\u001b[0m\n",
      "\u001b[1;31mImportError\u001b[0m: cannot import name 'gddays' from 'wdc' (unknown location)"
     ]
    }
   ],
   "source": [
    "iug_load_gmag_wdc_qddays()"
   ]
  },
  {
   "cell_type": "code",
   "execution_count": 39,
   "metadata": {},
   "outputs": [],
   "source": [
    "sites=\"kak dst ae sym asy\"\n",
    "site2=sites.split(\" \")"
   ]
  },
  {
   "cell_type": "code",
   "execution_count": 40,
   "metadata": {},
   "outputs": [],
   "source": [
    "site2=[s for s in site2 if not((s==\"dst\")or(s==\"ae\")or(s==\"sym\")or(s==\"asy\"))]"
   ]
  },
  {
   "cell_type": "code",
   "execution_count": 41,
   "metadata": {},
   "outputs": [
    {
     "data": {
      "text/plain": [
       "['kak']"
      ]
     },
     "execution_count": 41,
     "metadata": {},
     "output_type": "execute_result"
    }
   ],
   "source": [
    "site2"
   ]
  },
  {
   "cell_type": "code",
   "execution_count": 47,
   "metadata": {},
   "outputs": [
    {
     "name": "stdout",
     "output_type": "stream",
     "text": [
      "Help on function iug_load_gmag_wdc in module __main__:\n",
      "\n",
      "iug_load_gmag_wdc(trange=['2011-1-1', '2011-1-2'], level='final', site='dst kak ae asy', res='hour')\n",
      "\n"
     ]
    }
   ],
   "source": [
    "help(iug_load_gmag_wdc)"
   ]
  },
  {
   "cell_type": "code",
   "execution_count": 83,
   "metadata": {},
   "outputs": [
    {
     "ename": "NameError",
     "evalue": "name 'CONFIG' is not defined",
     "output_type": "error",
     "traceback": [
      "\u001b[1;31m---------------------------------------------------------------------------\u001b[0m",
      "\u001b[1;31mNameError\u001b[0m                                 Traceback (most recent call last)",
      "\u001b[1;32m<ipython-input-83-e96587b3697b>\u001b[0m in \u001b[0;36m<module>\u001b[1;34m\u001b[0m\n\u001b[1;32m----> 1\u001b[1;33m \u001b[0mCONFIG\u001b[0m\u001b[1;33m[\u001b[0m\u001b[1;34m'local_data_dir_sym'\u001b[0m\u001b[1;33m]\u001b[0m\u001b[1;33m\u001b[0m\u001b[1;33m\u001b[0m\u001b[0m\n\u001b[0m",
      "\u001b[1;31mNameError\u001b[0m: name 'CONFIG' is not defined"
     ]
    }
   ],
   "source": [
    "CONFIG['local_data_dir_sym']"
   ]
  },
  {
   "cell_type": "code",
   "execution_count": 84,
   "metadata": {},
   "outputs": [
    {
     "ename": "ModuleNotFoundError",
     "evalue": "No module named 'config'",
     "output_type": "error",
     "traceback": [
      "\u001b[1;31m---------------------------------------------------------------------------\u001b[0m",
      "\u001b[1;31mModuleNotFoundError\u001b[0m                       Traceback (most recent call last)",
      "\u001b[1;32m<ipython-input-84-75286f0caaeb>\u001b[0m in \u001b[0;36m<module>\u001b[1;34m\u001b[0m\n\u001b[1;32m----> 1\u001b[1;33m \u001b[1;32mimport\u001b[0m \u001b[0mconfig\u001b[0m\u001b[1;33m\u001b[0m\u001b[1;33m\u001b[0m\u001b[0m\n\u001b[0m",
      "\u001b[1;31mModuleNotFoundError\u001b[0m: No module named 'config'"
     ]
    }
   ],
   "source": []
  },
  {
   "cell_type": "code",
   "execution_count": null,
   "metadata": {},
   "outputs": [],
   "source": []
  }
 ],
 "metadata": {
  "kernelspec": {
   "display_name": "Python 3",
   "language": "python",
   "name": "python3"
  },
  "language_info": {
   "codemirror_mode": {
    "name": "ipython",
    "version": 3
   },
   "file_extension": ".py",
   "mimetype": "text/x-python",
   "name": "python",
   "nbconvert_exporter": "python",
   "pygments_lexer": "ipython3",
   "version": "3.8.3"
  }
 },
 "nbformat": 4,
 "nbformat_minor": 4
}
