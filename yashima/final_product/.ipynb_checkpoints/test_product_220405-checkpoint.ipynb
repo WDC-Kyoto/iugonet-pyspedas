{
 "cells": [
  {
   "cell_type": "code",
   "execution_count": 44,
   "metadata": {},
   "outputs": [],
   "source": [
    "%run ./iug_load_gmag_wdc.py"
   ]
  },
  {
   "cell_type": "code",
   "execution_count": 51,
   "metadata": {},
   "outputs": [
    {
     "name": "stderr",
     "output_type": "stream",
     "text": [
      "05-Apr-22 17:09:46: File is current: \\iugonet\\wdc_kyoto\\dst\\dst\\2011\\dst1101\n",
      "05-Apr-22 17:09:46: File is current: \\iugonet\\wdc_kyoto\\site\\hour\\kak\\2011\\kak1101\n"
     ]
    },
    {
     "name": "stdout",
     "output_type": "stream",
     "text": [
      "['dst/2011/dst1101']\n",
      "0 : dst\n",
      "1 : site_hour_kak_D\n",
      "2 : site_hour_kak_H\n",
      "3 : site_hour_kak_Z\n",
      "4 : site_hour_kak_F\n",
      "5 : site_hour_kak  data from:  site_hour_kak_H site_hour_kak_Z site_hour_kak_F\n",
      "0 : dst\n",
      "1 : site_hour_kak_D\n",
      "2 : site_hour_kak_H\n",
      "3 : site_hour_kak_Z\n",
      "4 : site_hour_kak_F\n",
      "5 : site_hour_kak  data from:  site_hour_kak_H site_hour_kak_Z site_hour_kak_F\n"
     ]
    },
    {
     "data": {
      "text/plain": [
       "0"
      ]
     },
     "execution_count": 51,
     "metadata": {},
     "output_type": "execute_result"
    }
   ],
   "source": [
    "iug_load_gmag_wdc(site=\"dst kak\")"
   ]
  },
  {
   "cell_type": "code",
   "execution_count": 39,
   "metadata": {},
   "outputs": [],
   "source": [
    "sites=\"kak dst ae sym asy\"\n",
    "site2=sites.split(\" \")"
   ]
  },
  {
   "cell_type": "code",
   "execution_count": 40,
   "metadata": {},
   "outputs": [],
   "source": [
    "site2=[s for s in site2 if not((s==\"dst\")or(s==\"ae\")or(s==\"sym\")or(s==\"asy\"))]"
   ]
  },
  {
   "cell_type": "code",
   "execution_count": 41,
   "metadata": {},
   "outputs": [
    {
     "data": {
      "text/plain": [
       "['kak']"
      ]
     },
     "execution_count": 41,
     "metadata": {},
     "output_type": "execute_result"
    }
   ],
   "source": [
    "site2"
   ]
  },
  {
   "cell_type": "code",
   "execution_count": 47,
   "metadata": {},
   "outputs": [
    {
     "name": "stdout",
     "output_type": "stream",
     "text": [
      "Help on function iug_load_gmag_wdc in module __main__:\n",
      "\n",
      "iug_load_gmag_wdc(trange=['2011-1-1', '2011-1-2'], level='final', site='dst kak ae asy', res='hour')\n",
      "\n"
     ]
    }
   ],
   "source": [
    "help(iug_load_gmag_wdc)"
   ]
  },
  {
   "cell_type": "code",
   "execution_count": null,
   "metadata": {},
   "outputs": [],
   "source": []
  }
 ],
 "metadata": {
  "kernelspec": {
   "display_name": "Python 3",
   "language": "python",
   "name": "python3"
  },
  "language_info": {
   "codemirror_mode": {
    "name": "ipython",
    "version": 3
   },
   "file_extension": ".py",
   "mimetype": "text/x-python",
   "name": "python",
   "nbconvert_exporter": "python",
   "pygments_lexer": "ipython3",
   "version": "3.8.3"
  }
 },
 "nbformat": 4,
 "nbformat_minor": 4
}
